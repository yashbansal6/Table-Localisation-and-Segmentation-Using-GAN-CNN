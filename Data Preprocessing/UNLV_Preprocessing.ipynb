{
  "nbformat": 4,
  "nbformat_minor": 0,
  "metadata": {
    "colab": {
      "name": "UNVL - Preprocessing.ipynb",
      "provenance": [],
      "collapsed_sections": []
    },
    "kernelspec": {
      "name": "python3",
      "display_name": "Python 3"
    },
    "language_info": {
      "name": "python"
    }
  },
  "cells": [
    {
      "cell_type": "markdown",
      "source": [
        "## Import Required Libraries"
      ],
      "metadata": {
        "id": "JgG6NkAbLMEI"
      }
    },
    {
      "cell_type": "code",
      "execution_count": 1,
      "metadata": {
        "id": "U21nq4T57u7-"
      },
      "outputs": [],
      "source": [
        "import cv2\n",
        "import json\n",
        "import numpy as np\n",
        "import os\n",
        "import matplotlib.pyplot as plt\n",
        "import xml.etree.ElementTree as ET\n",
        "from math import ceil\n",
        "from PIL import Image"
      ]
    },
    {
      "cell_type": "markdown",
      "source": [
        "## Load Dataset"
      ],
      "metadata": {
        "id": "1dZiwzpiKP3q"
      }
    },
    {
      "cell_type": "markdown",
      "source": [
        "Option 1 - Load from drive"
      ],
      "metadata": {
        "id": "032ksa3aKUTB"
      }
    },
    {
      "cell_type": "code",
      "source": [
        "from google.colab import drive\n",
        "drive.mount('/content/drive', force_remount=True)"
      ],
      "metadata": {
        "colab": {
          "base_uri": "https://localhost:8080/"
        },
        "id": "CU9IgunYE38D",
        "outputId": "2622b978-9aad-4b79-967e-06055138dcef"
      },
      "execution_count": 2,
      "outputs": [
        {
          "output_type": "stream",
          "name": "stdout",
          "text": [
            "Mounted at /content/drive\n"
          ]
        }
      ]
    },
    {
      "cell_type": "code",
      "source": [
        "! unzip /content/drive/MyDrive/BTP_Dataset/unlv_images.zip"
      ],
      "metadata": {
        "id": "Gb1cPb8D78F9"
      },
      "execution_count": null,
      "outputs": []
    },
    {
      "cell_type": "markdown",
      "source": [
        "Option 2 - Download from https://drive.google.com/drive/folders/14Citi2bfhyQKfDonzcyv4RO9A0bNCJYw?usp=sharing and Upload to Colab"
      ],
      "metadata": {
        "id": "5UyHG91NKZiU"
      }
    },
    {
      "cell_type": "code",
      "source": [
        "! unzip unlv_images.zip"
      ],
      "metadata": {
        "id": "6nZA_L9LK7WH"
      },
      "execution_count": null,
      "outputs": []
    },
    {
      "cell_type": "markdown",
      "source": [
        "## Initalize Empty Folders"
      ],
      "metadata": {
        "id": "SDiAtv2KLUn_"
      }
    },
    {
      "cell_type": "code",
      "source": [
        "! mkdir row\n",
        "! mkdir row/img\n",
        "! mkdir row/mask\n",
        "! mkdir col\n",
        "! mkdir col/img\n",
        "! mkdir col/mask"
      ],
      "metadata": {
        "id": "Dcd7veXKHMU0"
      },
      "execution_count": 4,
      "outputs": []
    },
    {
      "cell_type": "code",
      "source": [
        "DS = \"/content/\"\n",
        "TRAIN_ROW = \"/content/row/img/\"\n",
        "TRAIN_COL = \"/content/col/img/\"\n",
        "ROW_MASK = \"/content/row/label/\"\n",
        "COL_MASK = \"/content/col/label/\""
      ],
      "metadata": {
        "id": "MsacXy7r8BV_"
      },
      "execution_count": 6,
      "outputs": []
    },
    {
      "cell_type": "markdown",
      "source": [
        "## Run script on UNLV"
      ],
      "metadata": {
        "id": "CV6XthqPLbmA"
      }
    },
    {
      "cell_type": "code",
      "source": [
        "c = 0; read = 0; write = 0\n",
        "\n",
        "for file in os.listdir(DS + \"unlv_xml_gt\"):\n",
        "\n",
        "    if file.endswith(\".xml\"):\n",
        "    \n",
        "        row_file = file.replace(\".xml\",\".png\")\n",
        "        col_file = file.replace(\".xml\",\".png\")\n",
        "\n",
        "        tree = ET.parse(DS + \"unlv_xml_gt/\" + file) \n",
        "        \n",
        "        # getting the parent tag of the xml document \n",
        "        root = tree.getroot()\n",
        "\n",
        "        doc_file = file.replace(\".xml\",\".png\")\n",
        "        document = cv2.imread(DS + \"unlv_images/\" + doc_file)\n",
        "\n",
        "        for elem in root:\n",
        "\n",
        "            local_r = document.copy()\n",
        "            local_r[:,:] = 0\n",
        "\n",
        "            local_c = document.copy()\n",
        "            local_c[:,:] = 0\n",
        "\n",
        "            for subelem in elem.findall('Table'):\n",
        "                table_dict = subelem.attrib\n",
        "                t_left = int(table_dict['x0'])\n",
        "                t_right = int(table_dict['x1'])\n",
        "                t_top = int(table_dict['y0'])\n",
        "                t_down = int(table_dict['y1'])\n",
        "                \n",
        "                local_r[t_top:t_down,t_left:t_right] = 255\n",
        "                local_c[t_top:t_down,t_left:t_right] = 255\n",
        "\n",
        "                for subsubelem in subelem.findall('Column'):\n",
        "                    col_dict = subsubelem.attrib\n",
        "                    c_left = int(col_dict['x0'])\n",
        "                    c_right = int(col_dict['x1'])\n",
        "                    c_top = int(col_dict['y0'])\n",
        "                    c_down = int(col_dict['y1'])\n",
        "\n",
        "                    local_c = cv2.line(local_c, (c_left,c_top), (c_right,c_down), (0,0,0), 8) \n",
        "\n",
        "                for subsubelem in subelem.findall('Row'):\n",
        "                    row_dict = subsubelem.attrib\n",
        "                    r_left = int(row_dict['x0'])\n",
        "                    r_right = int(row_dict['x1'])\n",
        "                    r_top = int(row_dict['y0'])\n",
        "                    r_down = int(row_dict['y1'])\n",
        "                    \n",
        "                    local_r = cv2.line(local_r, (r_left,r_top), (r_right,r_down), (0,0,0), 8) \n",
        "\n",
        "            # crop the tables from doc\n",
        "            document = document[t_top:t_down,t_left:t_right]\n",
        "            local_r = local_r[t_top:t_down,t_left:t_right]\n",
        "            local_c = local_c[t_top:t_down,t_left:t_right]\n",
        "            \n",
        "            # resize to 512x512\n",
        "            document = cv2.resize(document, (512, 512))\n",
        "            local_c = cv2.resize(local_c, (512, 512))\n",
        "            local_r = cv2.resize(local_r, (512, 512))\n",
        "            \n",
        "            # Thresholding values below and above 128 to be 0 and 1 respectively\n",
        "            # To create Mask\n",
        "            ret, local_r = cv2.threshold(local_r, 128, 1, cv2.THRESH_BINARY)\n",
        "            ret, local_c = cv2.threshold(local_c, 128, 1, cv2.THRESH_BINARY)\n",
        "            \n",
        "            # Save Mask\n",
        "            cv2.imwrite(TRAIN_ROW + doc_file, document)\n",
        "            cv2.imwrite(TRAIN_COL + doc_file, document)\n",
        "            cv2.imwrite(ROW_MASK + row_file, local_r)\n",
        "            cv2.imwrite(COL_MASK + col_file, local_c)"
      ],
      "metadata": {
        "id": "FCUWDZZM7yG5"
      },
      "execution_count": 7,
      "outputs": []
    },
    {
      "cell_type": "code",
      "source": [
        "!pip install split-folders"
      ],
      "metadata": {
        "colab": {
          "base_uri": "https://localhost:8080/"
        },
        "id": "7Y7DTqTHJgK8",
        "outputId": "61d58526-0a0d-45e3-f3f6-a36e9006d4f5"
      },
      "execution_count": 9,
      "outputs": [
        {
          "output_type": "stream",
          "name": "stdout",
          "text": [
            "Collecting split-folders\n",
            "  Downloading split_folders-0.4.3-py3-none-any.whl (7.4 kB)\n",
            "Installing collected packages: split-folders\n",
            "Successfully installed split-folders-0.4.3\n"
          ]
        }
      ]
    },
    {
      "cell_type": "markdown",
      "source": [
        "## Split folders to generate train and test dataset"
      ],
      "metadata": {
        "id": "hUHwEcvHLhac"
      }
    },
    {
      "cell_type": "code",
      "source": [
        "import splitfolders"
      ],
      "metadata": {
        "id": "Fp5HdplRB5u9"
      },
      "execution_count": 10,
      "outputs": []
    },
    {
      "cell_type": "code",
      "source": [
        "splitfolders.ratio(\"/content/row\", output=\"/content/row\", seed=42, ratio=(.8, .2), group_prefix=None)\n",
        "splitfolders.ratio(\"/content/col\", output=\"/content/col\", seed=42, ratio=(.8, .2), group_prefix=None)"
      ],
      "metadata": {
        "colab": {
          "base_uri": "https://localhost:8080/"
        },
        "id": "mOWk0CzgB8yI",
        "outputId": "1238f7c7-bf38-455e-8dac-82d9959623ae"
      },
      "execution_count": 11,
      "outputs": [
        {
          "output_type": "stream",
          "name": "stderr",
          "text": [
            "Copying files: 846 files [00:00, 5936.07 files/s]\n",
            "Copying files: 846 files [00:00, 5495.46 files/s]\n"
          ]
        }
      ]
    },
    {
      "cell_type": "code",
      "source": [
        "!rm -rf /content/row/img\n",
        "!rm -rf /content/row/mask\n",
        "!rm -rf /content/col/img\n",
        "!rm -rf /content/col/mask"
      ],
      "metadata": {
        "id": "Gvpz7cnqCDFC"
      },
      "execution_count": 12,
      "outputs": []
    },
    {
      "cell_type": "markdown",
      "source": [
        "## Download Processed Data"
      ],
      "metadata": {
        "id": "j1GyUQUWLqON"
      }
    },
    {
      "cell_type": "code",
      "source": [
        "!zip -r /content/row.zip /content/row\n",
        "\n",
        "from google.colab import files\n",
        "files.download(\"/content/row.zip\")\n",
        "\n",
        "!zip -r /content/col.zip /content/col\n",
        "\n",
        "from google.colab import files\n",
        "files.download(\"/content/col.zip\")"
      ],
      "metadata": {
        "id": "BfJDP4cgJ2pm"
      },
      "execution_count": null,
      "outputs": []
    }
  ]
}